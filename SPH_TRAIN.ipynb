{
  "nbformat": 4,
  "nbformat_minor": 0,
  "metadata": {
    "colab": {
      "provenance": [],
      "mount_file_id": "1iTNCQ0D-RxBFWPCYl5B_013tY5MZF1mQ",
      "authorship_tag": "ABX9TyOHCYw113nXecCm6j3boQ1a",
      "include_colab_link": true
    },
    "kernelspec": {
      "name": "python3",
      "display_name": "Python 3"
    },
    "language_info": {
      "name": "python"
    }
  },
  "cells": [
    {
      "cell_type": "markdown",
      "metadata": {
        "id": "view-in-github",
        "colab_type": "text"
      },
      "source": [
        "<a href=\"https://colab.research.google.com/github/Naman-chopra/Kheti_baadi/blob/main/SPH_TRAIN.ipynb\" target=\"_parent\"><img src=\"https://colab.research.google.com/assets/colab-badge.svg\" alt=\"Open In Colab\"/></a>"
      ]
    },
    {
      "cell_type": "code",
      "execution_count": 11,
      "metadata": {
        "id": "gWJhN_ZXI_oP"
      },
      "outputs": [],
      "source": [
        "path=\"/content/drive/MyDrive/SPH\""
      ]
    },
    {
      "cell_type": "code",
      "source": [
        "import pandas as pd\n",
        "import numpy as np\n",
        "import sklearn\n",
        "from sklearn.model_selection import KFold\n",
        "kf = KFold(n_splits=10)\n",
        "from sklearn import *\n",
        "from sklearn import metrics\n",
        "import matplotlib.pyplot as plt\n",
        "import seaborn as sns\n",
        "sns.set(rc={'figure.figsize':(10,10)})\n",
        "\n"
      ],
      "metadata": {
        "id": "V0qZBXyOKDXC"
      },
      "execution_count": 12,
      "outputs": []
    },
    {
      "cell_type": "code",
      "source": [
        "df=pd.read_csv(path+\"/dataset.csv\")\n",
        "print(df.describe())\n",
        "print(df.isna().sum())\n",
        "df.label.value_counts()"
      ],
      "metadata": {
        "colab": {
          "base_uri": "https://localhost:8080/"
        },
        "id": "Cr5l2ns7KLNU",
        "outputId": "d2f122d0-5aa1-45fc-a195-527ee12ba50f"
      },
      "execution_count": 19,
      "outputs": [
        {
          "output_type": "stream",
          "name": "stdout",
          "text": [
            "                N           P           K          ph          EC           S  \\\n",
            "count  620.000000  620.000000  620.000000  620.000000  620.000000  620.000000   \n",
            "mean   135.701613   52.508065  161.401613    6.106290    0.885468    0.484085   \n",
            "std     31.808083   24.673538   81.285780    0.693782    0.637214    5.775388   \n",
            "min     30.000000   10.000000   51.000000    4.500000    0.010000    0.011100   \n",
            "25%    116.000000   30.000000   89.000000    5.700000    0.297500    0.086000   \n",
            "50%    138.000000   54.000000  157.500000    6.100000    0.780000    0.168000   \n",
            "75%    160.000000   75.000000  206.000000    6.500000    1.390000    0.240000   \n",
            "max    198.000000  100.000000  369.000000    8.000000    2.480000  113.200000   \n",
            "\n",
            "               Cu          Fe           Mn          Zn           B  \n",
            "count  620.000000  620.000000   620.000000  620.000000  620.000000  \n",
            "mean    17.315452  117.212500   219.905887   34.340839   28.750710  \n",
            "std      6.441150   62.775199   341.998793   11.543871   19.636447  \n",
            "min      0.180000    3.810000    20.580000   17.990000    1.020000  \n",
            "25%     12.592500   68.312500    58.785000   24.727500   13.442500  \n",
            "50%     16.910000  108.245000    73.580000   31.425000   23.225000  \n",
            "75%     21.102500  155.620000   163.665000   43.542500   42.767500  \n",
            "max     35.000000  276.720000  1572.540000   70.000000   74.560000  \n",
            "N        0\n",
            "P        0\n",
            "K        0\n",
            "ph       0\n",
            "EC       0\n",
            "S        0\n",
            "Cu       0\n",
            "Fe       0\n",
            "Mn       0\n",
            "Zn       0\n",
            "B        0\n",
            "label    0\n",
            "dtype: int64\n"
          ]
        },
        {
          "output_type": "execute_result",
          "data": {
            "text/plain": [
              "pomegranate    104\n",
              "mango          104\n",
              "grapes         104\n",
              "mulberry       104\n",
              "ragi           104\n",
              "potato         100\n",
              "Name: label, dtype: int64"
            ]
          },
          "metadata": {},
          "execution_count": 19
        }
      ]
    },
    {
      "cell_type": "code",
      "source": [
        "df1=pd.read_csv(path+\"/Crop_recommendation.csv\")\n",
        "print(df1.describe())\n",
        "print(df1.isna().sum())\n",
        "df1.label.value_counts()"
      ],
      "metadata": {
        "id": "9Nc9QL3_Kyim"
      },
      "execution_count": null,
      "outputs": []
    },
    {
      "cell_type": "code",
      "source": [
        "X=df.drop(['N','p','K'],axis=1)\n",
        "Y=df.label\n"
      ],
      "metadata": {
        "id": "yd6TZrq6Nka8"
      },
      "execution_count": 18,
      "outputs": []
    },
    {
      "cell_type": "markdown",
      "source": [
        "#2. GRID SEARCH"
      ],
      "metadata": {
        "id": "C-NHZvszhmew"
      }
    },
    {
      "cell_type": "markdown",
      "source": [
        "##2.1 Linear Reg"
      ],
      "metadata": {
        "id": "3UNbgUaeir_J"
      }
    },
    {
      "cell_type": "code",
      "source": [
        "from sklearn.linear_model import LinearRegression as LR\n",
        "\n",
        "grid_params={'fit_intercept':[True,False],'copy_X':[True],'n_jobs':[-1]}\n",
        "gs=GridSearchCV(LR(),grid_params,verbose=3,cv=10,n_jobs=1,scoring='neg_mean_squared_error')\n",
        "gs_results=gs.fit(X,Y)\n",
        "print(gs_results.best_score_)\n",
        "print(gs_results.best_params_)\n",
        "lin_reg=gs_results.best_estimator_\n",
        "\n",
        "# -0.8873596762931012\n",
        "# {'copy_X': True, 'fit_intercept': True, 'n_jobs': -1}"
      ],
      "metadata": {
        "colab": {
          "base_uri": "https://localhost:8080/"
        },
        "id": "zZVmtxOlhh7c",
        "outputId": "6cfd064a-0342-4666-84dc-b0233b148d66"
      },
      "execution_count": null,
      "outputs": [
        {
          "output_type": "stream",
          "name": "stdout",
          "text": [
            "Fitting 10 folds for each of 2 candidates, totalling 20 fits\n",
            "-0.8873596762931012\n",
            "{'copy_X': True, 'fit_intercept': True, 'n_jobs': -1}\n"
          ]
        }
      ]
    },
    {
      "cell_type": "markdown",
      "source": [
        "##2.2 Polynomial"
      ],
      "metadata": {
        "id": "y7sNqqYTi7A0"
      }
    },
    {
      "cell_type": "code",
      "source": [
        "from sklearn.preprocessing import PolynomialFeatures\n",
        "\n",
        "poly = PolynomialFeatures(2)\n",
        "x_poly=poly.fit_transform(X)\n",
        "grid_params={'fit_intercept':[True,False],'copy_X':[True],'n_jobs':[-1]}\n",
        "gs=GridSearchCV(LR(),grid_params,verbose=3,cv=10,n_jobs=1,scoring='neg_mean_squared_error')\n",
        "gs_results=gs.fit(x_poly,Y)\n",
        "print(gs_results.best_score_)\n",
        "print(gs_results.best_params_)\n",
        "poly_lin_reg=gs_results.best_estimator_"
      ],
      "metadata": {
        "colab": {
          "base_uri": "https://localhost:8080/"
        },
        "id": "wxbuE0JxirYA",
        "outputId": "7be5ecf2-90cc-41b8-850c-4b28057d6aa2"
      },
      "execution_count": null,
      "outputs": [
        {
          "output_type": "stream",
          "name": "stdout",
          "text": [
            "Fitting 10 folds for each of 2 candidates, totalling 20 fits\n",
            "-18.403777128952377\n",
            "{'copy_X': True, 'fit_intercept': False, 'n_jobs': -1}\n"
          ]
        }
      ]
    },
    {
      "cell_type": "markdown",
      "source": [
        "##2.3 Ridge Regression"
      ],
      "metadata": {
        "id": "qgEfy1v-miox"
      }
    },
    {
      "cell_type": "code",
      "source": [
        "from sklearn.linear_model import Ridge\n",
        "\n",
        "grid_params={'alpha':[0.001,0.01,0.1,1,10,100],'max_iter':[50,100,500,1000,2000,10000],'solver':['auto', 'svd', 'cholesky', 'lsqr', 'sparse_cg', 'sag', 'saga'],'fit_intercept':[True,False],'copy_X':[True]}\n",
        "gs=GridSearchCV(Ridge(),grid_params,verbose=3,cv=5,n_jobs=1,scoring='neg_mean_squared_error')\n",
        "gs_results=gs.fit(X,Y)\n",
        "print(gs_results.best_score_)\n",
        "print(gs_results.best_params_)\n",
        "ridge_reg=gs_results.best_estimator_\n",
        "\n",
        "# -0.8745833373823224\n",
        "# {'alpha': 10, 'copy_X': True, 'fit_intercept': True, 'max_iter': 50, 'solver': 'saga'}\n",
        "# /usr/local/lib/python3.7/dist-packages/sklearn/linear_model/_sag.py:354: ConvergenceWarning: The max_iter was reached which means the coef_ did not converge\n",
        "#   ConvergenceWarning,\n"
      ],
      "metadata": {
        "colab": {
          "base_uri": "https://localhost:8080/"
        },
        "id": "j157CTehjtWw",
        "outputId": "2774de8c-af1c-40d9-fe00-ebd6057d6ec2"
      },
      "execution_count": null,
      "outputs": [
        {
          "output_type": "stream",
          "name": "stdout",
          "text": [
            "Fitting 5 folds for each of 504 candidates, totalling 2520 fits\n",
            "-0.8745833373823224\n",
            "{'alpha': 10, 'copy_X': True, 'fit_intercept': True, 'max_iter': 50, 'solver': 'saga'}\n"
          ]
        },
        {
          "output_type": "stream",
          "name": "stderr",
          "text": [
            "/usr/local/lib/python3.7/dist-packages/sklearn/linear_model/_sag.py:354: ConvergenceWarning: The max_iter was reached which means the coef_ did not converge\n",
            "  ConvergenceWarning,\n"
          ]
        }
      ]
    },
    {
      "cell_type": "markdown",
      "source": [
        "##2.4 Lasso Regression"
      ],
      "metadata": {
        "id": "A8PlJEX4oRdO"
      }
    },
    {
      "cell_type": "code",
      "source": [
        "from sklearn.linear_model import Lasso\n",
        "\n",
        "grid_params={'alpha':[0.001,0.01,0.1,1,10,100],'max_iter':[50,100,500,1000,2000,10000],\n",
        "             'fit_intercept':[True,False],'copy_X':[True],\n",
        "             'warm_start':[True,False],\n",
        "             'selection':['cyclic','random']\n",
        "             }\n",
        "gs=GridSearchCV(Lasso(),grid_params,verbose=3,cv=5,n_jobs=1,scoring='neg_mean_squared_error')\n",
        "gs_results=gs.fit(X,Y)\n",
        "print(gs_results.best_score_)\n",
        "print(gs_results.best_params_)\n",
        "lasso_reg=gs_results.best_estimator_"
      ],
      "metadata": {
        "colab": {
          "base_uri": "https://localhost:8080/"
        },
        "id": "onq7oRC9oF6w",
        "outputId": "5cac7fd6-fd30-4f9a-b77f-db55e828ccf5"
      },
      "execution_count": null,
      "outputs": [
        {
          "output_type": "stream",
          "name": "stdout",
          "text": [
            "Fitting 5 folds for each of 288 candidates, totalling 1440 fits\n",
            "-0.8740852299107653\n",
            "{'alpha': 0.001, 'copy_X': True, 'fit_intercept': True, 'max_iter': 50, 'selection': 'random', 'warm_start': True}\n"
          ]
        },
        {
          "output_type": "stream",
          "name": "stderr",
          "text": [
            "/usr/local/lib/python3.7/dist-packages/sklearn/linear_model/_coordinate_descent.py:648: ConvergenceWarning: Objective did not converge. You might want to increase the number of iterations, check the scale of the features or consider increasing regularisation. Duality gap: 4.761e+02, tolerance: 8.662e-01\n",
            "  coef_, l1_reg, l2_reg, X, y, max_iter, tol, rng, random, positive\n"
          ]
        }
      ]
    },
    {
      "cell_type": "markdown",
      "source": [
        "##2.5 SVR"
      ],
      "metadata": {
        "id": "Sv6OqpAnqNFw"
      }
    },
    {
      "cell_type": "code",
      "source": [
        "from sklearn.svm import SVR\n",
        "\n",
        "\n",
        "grid_params = {'kernel' : ('linear', 'poly', 'rbf', 'sigmoid'),'C' : [1,5,10,50],'degree' : [2,3,8],'coef0' : [0.01,10,0.5],'gamma' : ('auto','scale')},\n",
        "\n",
        "gs=GridSearchCV(SVR(),grid_params,verbose=3,cv=5,n_jobs=1,scoring='neg_mean_squared_error')\n",
        "gs_results=gs.fit(X,Y)\n",
        "# print(gs_results.best_score_)\n",
        "print(gs_results.best_params_)\n",
        "svr_reg=gs_results.best_estimator_"
      ],
      "metadata": {
        "id": "wNei2E0OpQar"
      },
      "execution_count": null,
      "outputs": []
    },
    {
      "cell_type": "markdown",
      "source": [
        "##2.6 Random Forest"
      ],
      "metadata": {
        "id": "oc-lDYefqgte"
      }
    },
    {
      "cell_type": "code",
      "source": [
        "from sklearn.ensemble import RandomForestRegressor as Rf\n",
        "\n",
        "grid_params={'n_estimators':[100,500],\n",
        "             'criterion':['squared_error'],\n",
        "             'max_features':['sqrt',None],\n",
        "             'n_jobs':[-1],\n",
        "             'verbose':[3],\n",
        "             'warm_start':[True,False]\n",
        "             }\n",
        "\n",
        "gs=GridSearchCV(Rf(),grid_params,verbose=3,cv=5,n_jobs=1,scoring='neg_mean_squared_error')\n",
        "gs_results=gs.fit(X,Y)\n",
        "print(gs_results.best_score_)\n",
        "print(gs_results.best_params_)\n",
        "rf_reg=gs_results.best_estimator_\n",
        "# -0.7481391830687684\n",
        "# {'criterion': 'squared_error', 'max_features': None, 'n_estimators': 500, 'n_jobs': -1, 'verbose': 3, 'warm_start': False}\n"
      ],
      "metadata": {
        "id": "3mYX5L4BsYcF"
      },
      "execution_count": null,
      "outputs": []
    },
    {
      "cell_type": "code",
      "source": [
        "from sklearn.ensemble import RandomForestRegressor as Rf\n",
        "\n",
        "rf_reg=Rf(criterion='squared_error',n_estimators=500,warm_start=False)\n"
      ],
      "metadata": {
        "colab": {
          "base_uri": "https://localhost:8080/"
        },
        "id": "FSQCcaUQnf70",
        "outputId": "0be986d8-94be-4164-ead0-0fbb603e83e6"
      },
      "execution_count": null,
      "outputs": [
        {
          "output_type": "execute_result",
          "data": {
            "text/plain": [
              "RandomForestRegressor(n_estimators=500)"
            ]
          },
          "metadata": {},
          "execution_count": 11
        }
      ]
    },
    {
      "cell_type": "markdown",
      "source": [
        "##2.7 GBR"
      ],
      "metadata": {
        "id": "N1IfMr2And4f"
      }
    },
    {
      "cell_type": "code",
      "source": [
        "from sklearn.ensemble import GradientBoostingRegressor as GBR\n",
        "\n",
        "\n",
        "grid_params= {\n",
        "    \"loss\":[\"squared_error\"],\n",
        "    \"learning_rate\": [0.01,0.1,1,10],\n",
        "    # \"min_samples_split\": np.linspace(1, 5,10 ),\n",
        "    # \"min_samples_leaf\": np.linspace(1, 5,10),\n",
        "    \"max_depth\":[10],\n",
        "    # \"max_features\":[\"log2\",\"sqrt\"],\n",
        "    \"criterion\": [\"friedman_mse\",  \"mse\",'squared_error'],\n",
        "    # \"subsample\":[0.2,0.5, 0.7, 0.9, 1.0],\n",
        "    \"n_estimators\":[100,500]\n",
        "    }\n",
        "\n",
        "gs=GridSearchCV(GBR(),grid_params,verbose=3,cv=5,n_jobs=1,scoring='neg_mean_squared_error')\n",
        "gs_results=gs.fit(X,Y)\n",
        "print(gs_results.best_score_)\n",
        "print(gs_results.best_params_)\n",
        "gbr_reg=gs_results.best_estimator_\n",
        "\n",
        "\n",
        "# -0.8444609546465334\n",
        "# {'criterion': 'mse', 'learning_rate': 0.01, 'loss': 'squared_error', 'max_depth': 10, 'n_estimators': 500}\n"
      ],
      "metadata": {
        "id": "TT1Yj9k7tksr"
      },
      "execution_count": null,
      "outputs": []
    }
  ]
}